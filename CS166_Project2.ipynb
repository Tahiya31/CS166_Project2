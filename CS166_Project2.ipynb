{
 "cells": [
  {
   "cell_type": "markdown",
   "metadata": {},
   "source": [
    "## Objective\n",
    "\n",
    "The goal of this assignment is to writing custom functions to manipulate and augment images.\n"
   ]
  },
  {
   "cell_type": "markdown",
   "metadata": {},
   "source": [
    "AI models require data to learn how to solve a task. For vision related tasks, many problems don't have enough data to train a model.\n",
    "\n",
    "If a model is not trained on sufficiently large dataset with diverse examples from varoius geographical locations, backgrounds, races, \n",
    "genders, AI will perform poorly in that task when it sees an example that was not part of its dataset.\n",
    "\n",
    "[Here is a related article to understand how dataset size affects model performance](https://news.mit.edu/2022/machine-learning-biased-data-0221)"
   ]
  },
  {
   "cell_type": "markdown",
   "metadata": {},
   "source": [
    "* **If researchers are training a model to classify cars in images, they want the model to learn what different cars look like. But if every Ford Thunderbird in the training dataset is shown from the front, when the trained model is given an image of a Ford Thunderbird shot from the side, it may misclassify it, even if it was trained on millions of car photos.**"
   ]
  },
  {
   "cell_type": "markdown",
   "metadata": {},
   "source": [
    "## But what if you don't have enough images for training an algorithm?"
   ]
  },
  {
   "cell_type": "markdown",
   "metadata": {},
   "source": [
    "### Data augmentation\n",
    "\n",
    "Data Augmentation is a very powerful method of increase you dataset size. Let's say you are working on creating a software for a hospital that processes chest X-rays different conditions of patient's organs. This software will do prelimnary screening to help find the most relevant doctor/advanced test to do next for helping the doctor in diagnosis.\n",
    "\n",
    "For many medical conditions we will not have enough images available as they may be rare to happen among patients.\n",
    "But to create the system, we need to teach the model detect the conditions by giving it images with (positively diagnosed) and without (healthy) the condition and in many possible form (angle, low lights, partial image, etc.)  so that wirks for many different scenarios.\n",
    "\n",
    "**Data augmentation can achieve this.**\n",
    "\n",
    "The augmented data will represent a more comprehensive set of possible data points, thus minimizing the distance between the data used for training the model and the data it will encounter when applied in real scenario."
   ]
  },
  {
   "cell_type": "markdown",
   "metadata": {},
   "source": [
    "Here is a paper of different augmentation techniques for images, used for stallite images studying forest health, artistic work creation, understanding the roads and oceans -- for getting a better performing AI system.\n",
    "\n",
    "[Research Paper on augmentation](https://journalofbigdata.springeropen.com/articles/10.1186/s40537-019-0197-0)"
   ]
  },
  {
   "cell_type": "code",
   "execution_count": 1,
   "metadata": {},
   "outputs": [],
   "source": [
    "from IPython.display import display\n",
    "from PIL import Image"
   ]
  },
  {
   "cell_type": "markdown",
   "metadata": {},
   "source": []
  }
 ],
 "metadata": {
  "kernelspec": {
   "display_name": "Python 3",
   "language": "python",
   "name": "python3"
  },
  "language_info": {
   "codemirror_mode": {
    "name": "ipython",
    "version": 3
   },
   "file_extension": ".py",
   "mimetype": "text/x-python",
   "name": "python",
   "nbconvert_exporter": "python",
   "pygments_lexer": "ipython3",
   "version": "3.10.8"
  },
  "orig_nbformat": 4
 },
 "nbformat": 4,
 "nbformat_minor": 2
}
